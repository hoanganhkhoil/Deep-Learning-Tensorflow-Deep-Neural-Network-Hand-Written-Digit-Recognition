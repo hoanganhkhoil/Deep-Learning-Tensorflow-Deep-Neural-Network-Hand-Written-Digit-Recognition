{
 "cells": [
  {
   "cell_type": "code",
   "execution_count": 10,
   "metadata": {},
   "outputs": [
    {
     "name": "stdout",
     "output_type": "stream",
     "text": [
      "Extracting data/train-images-idx3-ubyte.gz\n",
      "Extracting data/train-labels-idx1-ubyte.gz\n",
      "Extracting data/t10k-images-idx3-ubyte.gz\n",
      "Extracting data/t10k-labels-idx1-ubyte.gz\n",
      "Epoch: 0.0, Loss: 22613.1, Accuracy: 0.1974\n",
      "Epoch: 1.0, Loss: 1155.35, Accuracy: 0.9648\n",
      "Epoch: 2.0, Loss: 850.924, Accuracy: 0.9727\n",
      "Epoch: 3.0, Loss: 722.216, Accuracy: 0.9785\n",
      "Epoch: 4.0, Loss: 846.435, Accuracy: 0.976\n",
      "Epoch: 5.0, Loss: 737.391, Accuracy: 0.9787\n",
      "Epoch: 6.0, Loss: 773.404, Accuracy: 0.9784\n",
      "Epoch: 7.0, Loss: 778.337, Accuracy: 0.9795\n",
      "Epoch: 8.0, Loss: 765.896, Accuracy: 0.9804\n",
      "Epoch: 9.0, Loss: 778.442, Accuracy: 0.98\n"
     ]
    }
   ],
   "source": [
    "# Author: Khoi Hoang\n",
    "# Email: hoanganhkhoil@gmail.com\n",
    "# Python version: 3.6\n",
    "# Project: Deep Neural Network - Hand written digits recognition\n",
    "\n",
    "import tensorflow as tf\n",
    "from tensorflow.examples.tutorials.mnist import input_data\n",
    "mnist = input_data.read_data_sets(\"data\", one_hot=True, reshape=True)\n",
    "\n",
    "# Placeholders\n",
    "X = tf.placeholder(tf.float32, [None, 784])\n",
    "Y_ = tf.placeholder(tf.float32, [None, 10])\n",
    "\n",
    "# Variables\n",
    "w1 = tf.Variable(tf.truncated_normal([784,200], stddev=0.1))   # layer1_size = 200\n",
    "b1 = tf.Variable(tf.zeros(200))\n",
    "\n",
    "w2 = tf.Variable(tf.truncated_normal([200,100], stddev=0.1))   # layer2_size = 100\n",
    "b2 = tf.Variable(tf.zeros(100))\n",
    "\n",
    "w3 = tf.Variable(tf.truncated_normal([100,10], stddev=0.1))    # output_size = 10\n",
    "b3 = tf.Variable(tf.zeros(10))\n",
    "\n",
    "# Hidden layers\n",
    "layer1 = tf.nn.relu(tf.matmul(X,w1) + b1)\n",
    "layer2 = tf.nn.relu(tf.matmul(layer1,w2) + b2)\n",
    "\n",
    "# Output layer\n",
    "Y = tf.nn.softmax(tf.matmul(layer2,w3) + b3)\n",
    "\n",
    "# Cross_entropy\n",
    "cross_entropy = -tf.reduce_sum(Y_ * tf.log(Y))\n",
    "\n",
    "# Optimizer\n",
    "optimizer = tf.train.GradientDescentOptimizer(0.003)\n",
    "train_step = optimizer.minimize(cross_entropy)\n",
    "\n",
    "# Accuracy\n",
    "is_correct = tf.equal(tf.argmax(Y,1), tf.argmax(Y_,1))\n",
    "Accuracy = tf.reduce_mean(tf.cast(is_correct, tf.float32))\n",
    "\n",
    "# Tensorflow Initilizer\n",
    "init = tf.global_variables_initializer()\n",
    "sess = tf.Session()\n",
    "sess.run(init)\n",
    "\n",
    "# Training\n",
    "for i in range(10000):\n",
    "    batch_x, batch_y = mnist.train.next_batch(100)    # batch_size = 100\n",
    "    train_dict = {X: batch_x, Y_: batch_y}\n",
    "    sess.run(train_step, feed_dict=train_dict)\n",
    "        \n",
    "    if i % 1000 == 0:\n",
    "        test_dict = {X: mnist.test.images, Y_: mnist.test.labels}\n",
    "        A,C = sess.run([Accuracy, cross_entropy], feed_dict=test_dict)\n",
    "        print (\"Epoch: %s, Loss: %s, Accuracy: %s\" % (i/1000, C, A))\n",
    "            \n",
    "\n",
    "\n",
    "\n"
   ]
  },
  {
   "cell_type": "code",
   "execution_count": null,
   "metadata": {
    "collapsed": true
   },
   "outputs": [],
   "source": []
  }
 ],
 "metadata": {
  "kernelspec": {
   "display_name": "Python 3",
   "language": "python",
   "name": "python3"
  },
  "language_info": {
   "codemirror_mode": {
    "name": "ipython",
    "version": 3
   },
   "file_extension": ".py",
   "mimetype": "text/x-python",
   "name": "python",
   "nbconvert_exporter": "python",
   "pygments_lexer": "ipython3",
   "version": "3.6.1"
  }
 },
 "nbformat": 4,
 "nbformat_minor": 2
}
